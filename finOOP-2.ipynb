{
 "cells": [
  {
   "cell_type": "raw",
   "metadata": {},
   "source": [
    "# 2019 객체지향프로그래밍 기말고사\n",
    "\n",
    "* 이름: 송기원\n",
    "* 학번: 20180637\n",
    "\n",
    "제출페이지\n",
    "https://hiclass.hannam.ac.kr/courses/4795/assignments/17744\n",
    "----"
   ]
  },
  {
   "cell_type": "markdown",
   "metadata": {},
   "source": [
    "---\n",
    "\n",
    "\n",
    "# 중간고사 범위 문제 (1~4번 각 2점, 총 8점)\n",
    "\n",
    "---"
   ]
  },
  {
   "cell_type": "markdown",
   "metadata": {},
   "source": [
    "## 1. 이차원 배열로부터 일차원 배열 계산 (2점)"
   ]
  },
  {
   "cell_type": "code",
   "execution_count": 1,
   "metadata": {},
   "outputs": [
    {
     "data": {
      "text/plain": [
       "true"
      ]
     },
     "execution_count": 1,
     "metadata": {},
     "output_type": "execute_result"
    }
   ],
   "source": [
    "import java.util.*;\n",
    "\n",
    "int[][] arr = { {1,2,3}, {4,5,6,7}, {8,9,10,11,12}, {13,14,15,16,17} };\n",
    "\n",
    "// arr안에 있는 각각의 일차원 배열의 합들을 계산해 ar에 저장하라\n",
    "// 이 때 ar의 타입은 일차원 배열인 int[]로 정의해야 한다.\n",
    "// 그렇게 해서 에러없이 아래 리턴 결과가 true가 되도록 하라.\n",
    "// (단, arr의 내용을 바꾸어도 항상 리턴 결과가 true가 되어야 한다)\n",
    "\n",
    "int[] ar = new int[arr.length];\n",
    "for(int i = 0; i < arr.length; i++){\n",
    "    for(int j = 0; j < arr[i].length; j++){\n",
    "        ar[i] += arr[i][j];\n",
    "    }\n",
    "}\n",
    "\n",
    "return Arrays.equals(\n",
    "    Arrays.stream(ar).mapToObj(a -> new Integer(a)).toArray(),\n",
    "    Arrays.stream(arr).map(a -> Arrays.stream(a).sum()).toArray() );"
   ]
  },
  {
   "cell_type": "markdown",
   "metadata": {},
   "source": [
    "## 2. 상속과 생성자 (2점)"
   ]
  },
  {
   "cell_type": "code",
   "execution_count": 2,
   "metadata": {},
   "outputs": [
    {
     "data": {
      "text/plain": [
       "com.twosigma.beaker.javash.bkrb8e0047b.Person"
      ]
     },
     "execution_count": 2,
     "metadata": {},
     "output_type": "execute_result"
    }
   ],
   "source": [
    "class Person {\n",
    "    String name; // 이름\n",
    "    int age;     // 나이\n",
    "    \n",
    "    Person(String _name, int _age){\n",
    "        this.name = _name;\n",
    "        this.age = _age;\n",
    "    }\n",
    "    \n",
    "    // 적절한 생성자를 정의하여 에러없이 아래 리턴 결과가 true가 되게 하라\n",
    "}"
   ]
  },
  {
   "cell_type": "code",
   "execution_count": 3,
   "metadata": {},
   "outputs": [
    {
     "data": {
      "text/plain": [
       "com.twosigma.beaker.javash.bkrb8e0047b.Student"
      ]
     },
     "execution_count": 3,
     "metadata": {},
     "output_type": "execute_result"
    }
   ],
   "source": [
    "class Student extends Person {\n",
    "    String school; // 학교\n",
    "    int number;    // 학번\n",
    "    \n",
    "    Student(String _school, int _num, String name, int age){\n",
    "        super(name, age);\n",
    "        this.school = _school;\n",
    "        this.number = _num;\n",
    "    }\n",
    "    // 적절한 생성자를 정의하여 에러없이 아래 리턴 결과가 true가 되게 하라\n",
    "}"
   ]
  },
  {
   "cell_type": "code",
   "execution_count": 4,
   "metadata": {},
   "outputs": [
    {
     "data": {
      "text/plain": [
       "true"
      ]
     },
     "execution_count": 4,
     "metadata": {},
     "output_type": "execute_result"
    }
   ],
   "source": [
    "Student p1 = new Student(\"HNU\", 20191111, \"강성연\", 42);\n",
    "Student p2 = new Student(\"한남대학교\", 20192222, \"권상우\", 41);\n",
    "return p1.school.equals(\"HNU\")        && p1.number==20191111 && p1.name.equals(\"강성연\") && p1.age==42\n",
    "    && p2.school.equals(\"한남대학교\") && p2.number==20192222 && p2.name.equals(\"권상우\") && p2.age==41;"
   ]
  },
  {
   "cell_type": "markdown",
   "metadata": {},
   "source": [
    "## 3. 인스턴스 변수 및 메소드 (2점)"
   ]
  },
  {
   "cell_type": "code",
   "execution_count": 5,
   "metadata": {},
   "outputs": [
    {
     "data": {
      "text/plain": [
       "com.twosigma.beaker.javash.bkrb8e0047b.D1"
      ]
     },
     "execution_count": 5,
     "metadata": {},
     "output_type": "execute_result"
    }
   ],
   "source": [
    "class D1 {\n",
    "    double d;\n",
    "    \n",
    "    public D1(double d){\n",
    "        this.d = d;\n",
    "    }\n",
    "    \n",
    "    public D1 copy(){\n",
    "        D1 d1 = new D1(this.d);\n",
    "        \n",
    "        return d1;\n",
    "    }\n",
    "    // 생성자 및 리턴 타입이 D1인 copy라는 이름의 메소드를 정의하여\n",
    "    // 아래의 리턴 결과가 true가 되도록 하라\n",
    "}"
   ]
  },
  {
   "cell_type": "code",
   "execution_count": 6,
   "metadata": {},
   "outputs": [
    {
     "data": {
      "text/plain": [
       "true"
      ]
     },
     "execution_count": 6,
     "metadata": {},
     "output_type": "execute_result"
    }
   ],
   "source": [
    "D1 o1 = new D1(1.5);\n",
    "D1 o2 = new D1(-2.3);\n",
    "return o1.d ==  1.5 && o1.copy().d == o1.d && o1.copy() != o1\n",
    "    && o2.d == -2.3 && o2.copy().d == o2.d && o2.copy() != o2;"
   ]
  },
  {
   "cell_type": "markdown",
   "metadata": {},
   "source": [
    "## 4. 인스턴스 변수 및 메소드 (2점)"
   ]
  },
  {
   "cell_type": "code",
   "execution_count": 7,
   "metadata": {},
   "outputs": [
    {
     "data": {
      "text/plain": [
       "com.twosigma.beaker.javash.bkrb8e0047b.D2"
      ]
     },
     "execution_count": 7,
     "metadata": {},
     "output_type": "execute_result"
    }
   ],
   "source": [
    "class D2 {\n",
    "    double d;\n",
    "    \n",
    "    public D2(double d){\n",
    "        this.d = d;\n",
    "    }\n",
    "    \n",
    "    public D2 copy(){\n",
    "        return this;\n",
    "    }\n",
    "    // 생성자 및 리턴 타입이 D2인 copy라는 이름의 메소드를 정의하여\n",
    "    // 아래의 리턴 결과가 true가 되도록 하라\n",
    "}"
   ]
  },
  {
   "cell_type": "code",
   "execution_count": 8,
   "metadata": {},
   "outputs": [
    {
     "data": {
      "text/plain": [
       "true"
      ]
     },
     "execution_count": 8,
     "metadata": {},
     "output_type": "execute_result"
    }
   ],
   "source": [
    "D2 o1 = new D2(1.5);\n",
    "D2 o2 = new D2(-2.3);\n",
    "return o1.d ==  1.5 && o1.copy().d == o1.d && o1.copy() == o1\n",
    "    && o2.d == -2.3 && o2.copy().d == o2.d && o2.copy() == o2;"
   ]
  },
  {
   "cell_type": "markdown",
   "metadata": {},
   "source": [
    "---\n",
    "\n",
    "# 과제 관련 문제 (각 메소드당 2점, 3개의 메소드, 총 6점)\n",
    "다 맞으면 과제 HW02 팩터가 100%인정, 하나 틀리면 50%, 한개만 맞으면 25%, 전부 틀리면 -25% 가 된다.\n",
    "\n",
    "\n",
    "과제에서 작성했던 메소드를 다시 작성해보는 문제이다.\n",
    "\n",
    "하지만 과제에서처럼 인스턴스 메소드를 따로 정의하지 말고 **클래스 메소드로만** 다시 작성하여 아래 코드를 완성해 보라.\n",
    "(그러니까 추가 메소드를 정의하지 말고 주어진 함수 몸체에 코드를 채워서 정의를 완성하라는 이야기이다.)\n",
    "\n",
    "꼭 과제에서 자신이 했던 방식으로 똑같이 할 필요는 없고 모범답안 풀이 등에 나온 방법을 사용해도 무방하다.\n",
    "\n",
    "## 5. length (2점)\n",
    "## 6. equals (2점)\n",
    "## 7. tails (2점)\n",
    "---"
   ]
  },
  {
   "cell_type": "code",
   "execution_count": 30,
   "metadata": {},
   "outputs": [
    {
     "data": {
      "text/plain": [
       "com.twosigma.beaker.javash.bkrb8e0047b.Node"
      ]
     },
     "execution_count": 30,
     "metadata": {},
     "output_type": "execute_result"
    }
   ],
   "source": [
    "class Node<T> {\n",
    "    private final T value;\n",
    "    private final Node<T> next;\n",
    "    Node(T v, Node<T> n) { value=v; next=n; }\n",
    "    T head() { return value; }\n",
    "    Node<T> tail() { return next; }\n",
    "    \n",
    "    @Override // 리스트의 내용을 알아보기 편하게 출력되게\n",
    "    public String toString() {\n",
    "        return ( (head() instanceof Node)? \"[\"+ head() + \"]\": head() ) + \", \" + tail();\n",
    "    }\n",
    "    \n",
    "    static <S> int length(Node<S> xs) { // 리스트의 길이를 계산하는 메소드\n",
    "        if(xs == null){\n",
    "            return 0;\n",
    "        }else{\n",
    "            return 1 + length(xs.tail());\n",
    "        } // 0을 무조건 리턴하는 대신 적절한 정의로 수정해 완성하시오\n",
    "    }\n",
    "    \n",
    "    static <S> boolean equals(Node<S> xs, Node<S> ys) { // 같은 값들이 들어있는지 검사하는 메소드\n",
    "        if(xs == null){\n",
    "            return ys == null;\n",
    "        }else{\n",
    "            if(xs.head() != ys.head()){\n",
    "                return false;\n",
    "            }else{\n",
    "                return equals(xs.tail(), ys.tail());\n",
    "            }\n",
    "        }\n",
    "        \n",
    "        //return false; // false를 무조건 리턴하는 대신 적절한 정의로 수정해 완성하시오\n",
    "    }\n",
    "\n",
    "    // xs가 1,2,3,null 형태의 리스트라면 tails(xs)결과는 [2,3,null], [3,null], null, null\n",
    "    static <S> Node< Node<S> > tails(Node<S> xs) {\n",
    "        if(xs == null){\n",
    "            return null;\n",
    "        }else{\n",
    "            return new Node(xs.tail(),tails(xs.tail()));\n",
    "        }\n",
    "        //return null; // null을 리턴하는 대신 적절한 정의로 수정해 완성하시오\n",
    "    }\n",
    "}"
   ]
  },
  {
   "cell_type": "markdown",
   "metadata": {},
   "source": [
    "---\n",
    "\n",
    "# 링크드 리스트로 좀더 (총 8점)\n",
    "\n",
    "Pair에 대한 구체적인 내용은 뒷부분을 참고할 것\n",
    "\n",
    "---"
   ]
  },
  {
   "cell_type": "markdown",
   "metadata": {},
   "source": [
    "## 8. Node에 대한 zip 작성 (3점)\n",
    "\n",
    "다음과 같은 xs, ys 에 대해 zip을 한 결과는\n",
    "```\n",
    " xs = 1,2,3,...\n",
    " ys = a,b,c,...\n",
    " zip(xs,ys) = (1,a), (2,b), (3,c), ...\n",
    "```\n",
    "만일 xs가 더 짧다면 순서쌍으로 묶을 것이 없는 ys 뒷부분은 무시한다\n",
    "```\n",
    " xs = 1,2,3,null\n",
    " ys = a,b,c,d,...\n",
    " zip(xs,ys) = (1,a), (2,b), (3,c), null\n",
    "```\n",
    "\n",
    "만일 ys가 더 짧다면 순서쌍으로 묶을 것이 없는 xs 뒷부분은 무시한다\n",
    "```\n",
    " xs = 1,2,3,4, ...\n",
    " ys = a,b,c,null\n",
    " zip(xs,ys) = (1,a), (2,b), (3,c), null\n",
    "```\n"
   ]
  },
  {
   "cell_type": "code",
   "execution_count": 31,
   "metadata": {},
   "outputs": [
    {
     "data": {
      "text/plain": [
       "com.twosigma.beaker.javash.bkrb8e0047b.Util0"
      ]
     },
     "execution_count": 31,
     "metadata": {},
     "output_type": "execute_result"
    }
   ],
   "source": [
    "import org.apache.commons.lang3.tuple.*; // Pair, ImmutablePair, MutablePair 등을 쓰기 위해 ... Java SDK에는 없다\n",
    "\n",
    "class Util0 {    \n",
    "    static <A,B> Node< Pair<A,B> > zip(Node<A> xs, Node<B> ys) {\n",
    "        Pair<A,B> p= Pair.of(xs.head(), ys.head());\n",
    "        \n",
    "        if(xs != null && ys != null){\n",
    "            if(xs.tail() != null && ys.tail() != null){\n",
    "                return new Node<Pair<A,B>>(p, zip(xs.tail(), ys.tail()));\n",
    "            }else{\n",
    "                return new\n",
    "            }\n",
    "            \n",
    "        }else{\n",
    "            return null;\n",
    "        }\n",
    "        //return null; // null을 리턴하는 대신 클래스 메소드 zip을 작성해 아래가 오류없이 true가 되게 하라\n",
    "    }\n",
    "}"
   ]
  },
  {
   "cell_type": "code",
   "execution_count": 32,
   "metadata": {},
   "outputs": [
    {
     "ename": "ERROR",
     "evalue": " java.lang.NullPointerException",
     "output_type": "error",
     "traceback": [
      "\u001b[1;31mERROR: java.lang.NullPointerException\u001b[0;0m"
     ]
    }
   ],
   "source": [
    "Node<Integer> xs2 = new Node<>(2, new Node<>(3, null));\n",
    "Node<Integer> xs3 = new Node<>(1, xs2);\n",
    "Node<String> ys2 = new Node<>(\"b\", new Node<>(\"c\", null));\n",
    "Node<String> ys3 = new Node<>(\"a\", ys2);\n",
    "\n",
    "// 아래는 테스트의 한 예일 뿐이다.\n",
    "// 아래가 ture가 되는 것이 기본 조건이고 일반적으로 동작하는 zip 함수를 작성해야 점수를 얻는다\n",
    "\n",
    "return Util0.zip(xs3,ys2).toString().equals(\"(1,b), (2,c), null\")\n",
    "    && Util0.zip(xs2,ys3).toString().equals(\"(2,a), (3,b), null\")\n",
    "    && Util0.zip(xs3,ys3).toString().equals(\"(1,a), (2,b), (3,c), null\");"
   ]
  },
  {
   "cell_type": "markdown",
   "metadata": {},
   "source": [
    "## 9. Node에 대한 unzip 작성 (5점) \n",
    "\n",
    "unzip은 zip의 반대로 순서쌍의 리스트를 두 리스트로 나누는 것이다.\n",
    "\n",
    "unzip의 결과는 그 두 리스트를 하나의 순서쌍으로 묶어 돌려준다. 즉 순서쌍의 왼쪽에도 리스트가 오른쪽에도 리스트가 들어있다는 말이다.\n",
    "\n",
    " * zs = (1,a), (2,b), (3,c), null\n",
    " * (xs,ys) = unzip(zs) 라고 하면\n",
    "       * xs = 1,2,3,null\n",
    "       * ys = a,b,c,null"
   ]
  },
  {
   "cell_type": "code",
   "execution_count": 12,
   "metadata": {},
   "outputs": [
    {
     "ename": "ERROR",
     "evalue": " java.lang.IllegalStateException",
     "output_type": "error",
     "traceback": [
      "\u001b[1;31mERROR: java.lang.IllegalStateException: cannot find symbol\u001b[0;0m",
      "\u001b[1;31m  symbol:   class Node\u001b[0;0m",
      "\u001b[0;31m  location: class com.twosigma.beaker.javash.bkrb8e0047b.Util1\u001b[0;0m",
      "\u001b[0;31mPair< Node<A>, Node<B> > unzip(Node< Pair<A,B> > zs) {\u001b[0;0m",
      "\u001b[0;31m                               ^   ^                    \u001b[0;0m",
      "\u001b[0;31m\u001b[0;0m",
      "\u001b[0;31mcannot find symbol\u001b[0;0m",
      "\u001b[0;31m  symbol:   class Node\u001b[0;0m",
      "\u001b[0;31m  location: class com.twosigma.beaker.javash.bkrb8e0047b.Util1\u001b[0;0m",
      "\u001b[0;31m static <A,B> Pair< Node<A>, Node<B> > unzip(Node< Pai\u001b[0;0m",
      "\u001b[0;31m                    ^   ^                               \u001b[0;0m",
      "\u001b[0;31m\u001b[0;0m",
      "\u001b[0;31mcannot find symbol\u001b[0;0m",
      "\u001b[0;31m  symbol:   class Node\u001b[0;0m",
      "\u001b[0;31m  location: class com.twosigma.beaker.javash.bkrb8e0047b.Util1\u001b[0;0m",
      "\u001b[0;31m static <A,B> Pair< Node<A>, Node<B> > unzip(Node< Pair<A,B> > \u001b[0;0m",
      "\u001b[0;31m                             ^   ^                               \u001b[0;0m"
     ]
    }
   ],
   "source": [
    "import org.apache.commons.lang3.tuple.*; // Pair, ImmutablePair, MutablePair 등을 쓰기 위해 ... Java SDK에는 없다\n",
    "\n",
    "class Util1 {\n",
    "    static <A,B> Pair< Node<A>, Node<B> > unzip(Node< Pair<A,B> > zs) {\n",
    "        return null; // null을 리턴하는 대신 클래스 메소드 unzip을 작성해 아래가 오류없이 true가 되게 하라\n",
    "    }\n",
    "}"
   ]
  },
  {
   "cell_type": "code",
   "execution_count": 13,
   "metadata": {},
   "outputs": [
    {
     "ename": "cannot find symbol",
     "evalue": "cannot find symbol",
     "output_type": "error",
     "traceback": [
      "\u001b[1;31mcannot find symbol\u001b[0;0m",
      "\u001b[1;31m  symbol:   class Node\u001b[0;0m",
      "\u001b[0;31m  location: class com.twosigma.beaker.javash.bkrb8e0047b.BeakerWrapperClass1261714175Id557dad5fe4eb43c282d8dec1c04cd63d\u001b[0;0m",
      "\u001b[0;31m Node<Integer> xs2 = new Node<>(2, \u001b[0;0m",
      "\u001b[0;31m ^   ^                               \u001b[0;0m",
      "\u001b[0;31m\u001b[0;0m",
      "\u001b[0;31mcannot find symbol\u001b[0;0m",
      "\u001b[0;31m  symbol:   class Node\u001b[0;0m",
      "\u001b[0;31m  location: class com.twosigma.beaker.javash.bkrb8e0047b.BeakerWrapperClass1261714175Id557dad5fe4eb43c282d8dec1c04cd63d\u001b[0;0m",
      "\u001b[0;31m Node<Integer> xs2 = new Node<>(2, new Node<>(3, null))\u001b[0;0m",
      "\u001b[0;31m                         ^   ^                           \u001b[0;0m",
      "\u001b[0;31m\u001b[0;0m",
      "\u001b[0;31mcannot find symbol\u001b[0;0m",
      "\u001b[0;31m  symbol:   class Node\u001b[0;0m",
      "\u001b[0;31m  location: class com.twosigma.beaker.javash.bkrb8e0047b.BeakerWrapperClass1261714175Id557dad5fe4eb43c282d8dec1c04cd63d\u001b[0;0m",
      "\u001b[0;31m Node<String> ys2 = new Node<>(\"b\",\u001b[0;0m",
      "\u001b[0;31m ^   ^                               \u001b[0;0m",
      "\u001b[0;31m\u001b[0;0m",
      "\u001b[0;31mcannot find symbol\u001b[0;0m",
      "\u001b[0;31m  symbol:   class Node\u001b[0;0m",
      "\u001b[0;31m  location: class com.twosigma.beaker.javash.bkrb8e0047b.BeakerWrapperClass1261714175Id557dad5fe4eb43c282d8dec1c04cd63d\u001b[0;0m",
      "\u001b[0;31m Node<String> ys2 = new Node<>(\"b\", new Node<>(\"c\", null))\u001b[0;0m",
      "\u001b[0;31m                        ^   ^                               \u001b[0;0m",
      "\u001b[0;31m\u001b[0;0m",
      "\u001b[0;31mcannot find symbol\u001b[0;0m",
      "\u001b[0;31m  symbol:   class Node\u001b[0;0m",
      "\u001b[0;31m  location: class com.twosigma.beaker.javash.bkrb8e0047b.BeakerWrapperClass1261714175Id557dad5fe4eb43c282d8dec1c04cd63d\u001b[0;0m",
      "\u001b[0;31m Node< Pair<Integer,String> > zs2 =\u001b[0;0m",
      "\u001b[0;31m ^   ^                               \u001b[0;0m",
      "\u001b[0;31m\u001b[0;0m",
      "\u001b[0;31mcannot find symbol\u001b[0;0m",
      "\u001b[0;31m  symbol:   class Node\u001b[0;0m",
      "\u001b[0;31m  location: class com.twosigma.beaker.javash.bkrb8e0047b.BeakerWrapperClass1261714175Id557dad5fe4eb43c282d8dec1c04cd63d\u001b[0;0m",
      "\u001b[0;31mir<Integer,String> > zs2 = new Node<>(Pair.of(2,\"b\"), new Node<>(\u001b[0;0m",
      "\u001b[0;31m                               ^   ^                               \u001b[0;0m",
      "\u001b[0;31m\u001b[0;0m",
      "\u001b[0;31mcannot find symbol\u001b[0;0m",
      "\u001b[0;31m  symbol:   variable Util1\u001b[0;0m",
      "\u001b[0;31m  location: class com.twosigma.beaker.javash.bkrb8e0047b.BeakerWrapperClass1261714175Id557dad5fe4eb43c282d8dec1c04cd63d\u001b[0;0m",
      "\u001b[0;31m return Util1.unzip(zs2).getLeft().toString\u001b[0;0m",
      "\u001b[0;31m        ^    ^                               \u001b[0;0m",
      "\u001b[0;31m\u001b[0;0m",
      "\u001b[0;31mcannot find symbol\u001b[0;0m",
      "\u001b[0;31m  symbol:   variable Util1\u001b[0;0m",
      "\u001b[0;31m  location: class com.twosigma.beaker.javash.bkrb8e0047b.BeakerWrapperClass1261714175Id557dad5fe4eb43c282d8dec1c04cd63d\u001b[0;0m",
      "\u001b[0;31m && Util1.unzip(zs2).getRight().toStrin\u001b[0;0m",
      "\u001b[0;31m    ^    ^                               \u001b[0;0m"
     ]
    }
   ],
   "source": [
    "import org.apache.commons.lang3.tuple.*; // Pair, ImmutablePair, MutablePair 등을 쓰기 위해 ... Java SDK에는 없다\n",
    "\n",
    "Node<Integer> xs2 = new Node<>(2, new Node<>(3, null));\n",
    "Node<String> ys2 = new Node<>(\"b\", new Node<>(\"c\", null));\n",
    "Node< Pair<Integer,String> > zs2 = new Node<>(Pair.of(2,\"b\"), new Node<>(Pair.of(3,\"c\"), null));\n",
    "\n",
    "// 아래는 테스트의 한 예일 뿐이다.\n",
    "// 아래가 ture가 되는 것이 기본 조건이고 일반적으로 동작하는 zip 함수를 작성해야 점수를 얻는다\n",
    "\n",
    "return Util1.unzip(zs2).getLeft().toString().equals(xs2.toString())\n",
    "    && Util1.unzip(zs2).getRight().toString().equals(ys2.toString());"
   ]
  },
  {
   "cell_type": "markdown",
   "metadata": {},
   "source": [
    "---\n",
    "\n",
    "# Collections - List, Set, Map (총 10점)\n",
    "\n",
    "---"
   ]
  },
  {
   "cell_type": "markdown",
   "metadata": {},
   "source": [
    "## 10. ArrayList와 LinkedList를 모두 처리하는 메소드 (2점)"
   ]
  },
  {
   "cell_type": "code",
   "execution_count": 28,
   "metadata": {},
   "outputs": [
    {
     "data": {
      "text/plain": [
       "com.twosigma.beaker.javash.bkrb8e0047b.MyUtil1"
      ]
     },
     "execution_count": 28,
     "metadata": {},
     "output_type": "execute_result"
    }
   ],
   "source": [
    "import java.util.*;\n",
    "\n",
    "class MyUtil1 {\n",
    "    static int numberOfItemsLessThan(int num, List list){\n",
    "        int cnt = 0;\n",
    "        \n",
    "        for(int i = 0; i < list.size(); i ++ ){\n",
    "            /*if(list.element(i) < num){\n",
    "                cnt++;\n",
    "            }*/\n",
    "        }\n",
    "        \n",
    "        return cnt;\n",
    "    }\n",
    "    // 클래스 메소드 numberOfItemsLessThan 을 작성하여 아래 코드가 오류없이 결과가 true가 되도록 하라\n",
    "}"
   ]
  },
  {
   "cell_type": "code",
   "execution_count": 29,
   "metadata": {},
   "outputs": [
    {
     "data": {
      "text/plain": [
       "false"
      ]
     },
     "execution_count": 29,
     "metadata": {},
     "output_type": "execute_result"
    }
   ],
   "source": [
    "import java.util.*;\n",
    "\n",
    "Integer arr[] = { 10, 11, 12, 13, 14, 15, 16, 17, 18, 19 };\n",
    "\n",
    "ArrayList<Integer>  al = new ArrayList<>(Arrays.asList(arr));\n",
    "LinkedList<Integer> ll = new LinkedList<>(Arrays.asList(arr));\n",
    "\n",
    "return MyUtil1.numberOfItemsLessThan(15, al) == 5 && MyUtil1.numberOfItemsLessThan(13, ll) == 3;"
   ]
  },
  {
   "cell_type": "markdown",
   "metadata": {},
   "source": [
    "## 11. ArrayList와 HashSet을 모두 처리하는 메소드 (2점)"
   ]
  },
  {
   "cell_type": "code",
   "execution_count": 16,
   "metadata": {},
   "outputs": [
    {
     "data": {
      "text/plain": [
       "com.twosigma.beaker.javash.bkrb8e0047b.MyUtil2"
      ]
     },
     "execution_count": 16,
     "metadata": {},
     "output_type": "execute_result"
    }
   ],
   "source": [
    "import java.util.*;\n",
    "\n",
    "class MyUtil2 {\n",
    "    static int sizeOf(Collection c){\n",
    "        return c.size();\n",
    "    }\n",
    "    // 클래스 메소드 sizeOf를 작성하여 아래 코드가 오류없이 결과가 true가 되도록 하라\n",
    "}"
   ]
  },
  {
   "cell_type": "code",
   "execution_count": 17,
   "metadata": {},
   "outputs": [
    {
     "data": {
      "text/plain": [
       "true"
      ]
     },
     "execution_count": 17,
     "metadata": {},
     "output_type": "execute_result"
    }
   ],
   "source": [
    "import java.util.*;\n",
    "\n",
    "Integer arr[] = { 10, 11, 12, 13, 14, 15, 15, 16, 17, 18, 19 };\n",
    "\n",
    "ArrayList<Integer> list = new ArrayList<>(Arrays.asList(arr));\n",
    "HashSet<Integer> set = new HashSet<>(Arrays.asList(arr));\n",
    "\n",
    "return MyUtil2.sizeOf(list) == 11 && MyUtil2.sizeOf(set) == 10;"
   ]
  },
  {
   "cell_type": "markdown",
   "metadata": {},
   "source": [
    "## 12. `Set< Pair<K,V> >`를 `Map<K,V>` 로 변환 (3점)\n",
    "Pair에 대한 구체적인 내용은 뒷부분을 참고할 것"
   ]
  },
  {
   "cell_type": "code",
   "execution_count": 18,
   "metadata": {},
   "outputs": [
    {
     "data": {
      "text/plain": [
       "false"
      ]
     },
     "execution_count": 18,
     "metadata": {},
     "output_type": "execute_result"
    }
   ],
   "source": [
    "import java.util.*;\n",
    "import org.apache.commons.lang3.tuple.*; // Pair, ImmutablePair, MutablePair 등을 쓰기 위해 ... Java SDK에는 없다\n",
    "\n",
    "Set< Pair<Integer, String> > s = new HashSet<>();\n",
    "// Map에 데이타 설정 시작\n",
    "s.add(Pair.of(11, \"Hello\"));\n",
    "s.add(Pair.of(22, \"Sky\"));\n",
    "s.add(Pair.of(33, \"Bye\"));\n",
    "s.add(Pair.of(44, \"Earth\"));\n",
    "// Map에 데이타 설정 끝\n",
    "\n",
    "Map<Integer, String> m = new HashMap<>();\n",
    "for(int i = 0; i < s.size(); i++){\n",
    "    \n",
    "} \n",
    "\n",
    "/* 여기에 적절한 코드를 작성하여 아래가 참이 되도록 하라\n",
    "   상수를 네번 입력하면 안되고 Set의 내용을 옮겨오도록 코드를 작성할 것!\n",
    " */\n",
    "\n",
    "return m.toString().equals(\"{33=Bye, 22=Sky, 11=Hello, 44=Earth}\");"
   ]
  },
  {
   "cell_type": "markdown",
   "metadata": {},
   "source": [
    "## 13. `Map<K,V>`를 `Set< Pair<K,V> >`로 변환 (3점)\n",
    "Pair에 대한 구체적인 내용은 뒷부분을 참고할 것"
   ]
  },
  {
   "cell_type": "code",
   "execution_count": 19,
   "metadata": {},
   "outputs": [
    {
     "data": {
      "text/plain": [
       "false"
      ]
     },
     "execution_count": 19,
     "metadata": {},
     "output_type": "execute_result"
    }
   ],
   "source": [
    "import java.util.*;\n",
    "import org.apache.commons.lang3.tuple.*; // Pair, ImmutablePair, MutablePair 등을 쓰기 위해 ... Java SDK에는 없다\n",
    "\n",
    "Map<Integer, String> m = new HashMap<>();\n",
    "// Map에 데이타 설정 시작\n",
    "m.put(11, \"Hello\");\n",
    "m.put(22, \"Sky\");\n",
    "m.put(33, \"Bye\");\n",
    "m.put(44, \"Earth\");\n",
    "// Map에 데이타 설정 끝\n",
    "Set< Pair<Integer, String> > s = new HashSet<>();\n",
    "\n",
    "/* 여기에 적절한 코드를 작성하여 아래가 참이 되도록 하라\n",
    "   상수를 네번 입력하면 안되고 Map의 내용을 옮겨오도록 코드를 작성할 것!\n",
    " */\n",
    "\n",
    "return s.toString().equals(\"[(22,Sky), (44,Earth), (33,Bye), (11,Hello)]\");"
   ]
  },
  {
   "cell_type": "markdown",
   "metadata": {},
   "source": [
    "---\n",
    "\n",
    "# 왼손 백기 올려, 오른손 청기 내려 ... (총 8점)\n",
    "\n",
    "운동회 같은 행사에서 기수의 역할을 하는 사람이 다음과 같이 항상 행동한다고 가정하자.\n",
    " 1. 양손에 청기나 백기 두 색깔 중 하나의 깃발 중 하나를 항상 잡고 있으며\n",
    " 1. 팔로는 깃발은 위로 들거나 아래로 내리는 두 위치 중 하나의 자세를 취한다.\n",
    "\n",
    "이렇게 깃발을 양손에 든 사람을 자바 프로그램으로 모델링해 보자.\n",
    "우선 왼손과 오른손에 들려진 깃발이 취할 수 있는 상태는 깃발의 색깔과 위치 이 두 가지 서로 다른 종류의 속성의 조합으로 결정된다.\n",
    "그리고 깃발을 든 사람은 왼팔에 든 깃발과 오른팔에 든 깃발이라는 서로 같은 종류의 두 가지 속성의 조합으로 결정된다.\n",
    "\n",
    "깃발과 사람을 각각 별도의 두 클래스로 설계할 수도 있지만 이런 두 가지 속성의 조함으로 이루어지는 공통점을 가진 대상을\n",
    "모델링하기 위해서 순서쌍이라는 개념을 일반화한 제너릭 클래스를 활용해 깃발과 사람 모두를 정의하는 데 활용하는 것도 방법이다.\n",
    "\n",
    "다른 많은 언어에는 순서쌍이 언어 기능이나 표준라이브러리로 제공되는데\n",
    "(참고로 Kotlin에도 물론 있다)\n",
    "그래서 Java SDK에도 당연히 있을 거 같지만 놀랍게도 아직까지 없다.\n",
    "(사람들이 좀 넣어달라고 하는데 아직까지 ...)\n",
    "그래서 기본적으로 거의 모든 자바 개발환경에서 제공되는 Java SDK말고\n",
    "그 다음으로 많이들 가져다 쓰는 apache에서 만든 자바 라이브러리에 있는 Pair라는 제너릭 순서쌍 클래스를 쓴다.\n",
    "\n",
    "참고로 Pair는 추상 클래스이며 그 하위 클래스로 ImmutablePair와 MutablePair 등이 정의되어 있다.\n",
    "문제를 푸는 데 필요한 정보를 apache.org 관련 문서 항목에서 가져다 이 시험문제 맨 끝부분에 참고자료로 옮겨 놓았으니 그 정보만 있으면 충분할 것이다.\n",
    "\n",
    "---"
   ]
  },
  {
   "cell_type": "markdown",
   "metadata": {},
   "source": [
    "## 14. 깃발과 양손에 깃발을 든 사람을 순서쌍을 MutablePair 클래스를 상속한 클래스들로 표현해 보라 (2점)"
   ]
  },
  {
   "cell_type": "code",
   "execution_count": 20,
   "metadata": {},
   "outputs": [
    {
     "ename": "ERROR",
     "evalue": " java.lang.IllegalStateException",
     "output_type": "error",
     "traceback": [
      "\u001b[1;31mERROR: java.lang.IllegalStateException: cannot find symbol\u001b[0;0m",
      "\u001b[1;31m  symbol: variable Position\u001b[0;0m",
      "\u001b[1;31m this.Position = p\u001b[0;0m",
      "\u001b[1;31m ^            ^     \u001b[0;0m"
     ]
    }
   ],
   "source": [
    "import org.apache.commons.lang3.tuple.*; // Pair, ImmutablePair, MutablePair 등을 쓰기 위해 ... Java SDK에는 없다\n",
    "\n",
    "class FlagM extends MutablePair<String, String>/* 여기에 MutablePair 제너릭 타입을 적절히 구체화하여 사용하라 */ {\n",
    "    enum Color { WHITE, BLUE };\n",
    "    enum Position { DOWN, UP };\n",
    "    \n",
    "    FlagM(Color c, Position p) {\n",
    "        \n",
    "        this.Position = p;\n",
    "    }\n",
    "    \n",
    "}"
   ]
  },
  {
   "cell_type": "code",
   "execution_count": 21,
   "metadata": {},
   "outputs": [
    {
     "ename": "ERROR",
     "evalue": " java.lang.IllegalStateException",
     "output_type": "error",
     "traceback": [
      "\u001b[1;31mERROR: java.lang.IllegalStateException: illegal start of type\u001b[0;0m",
      "\u001b[1;31m class PersonM extends  {\u001b[0;0m",
      "\u001b[1;31m                        ^ \u001b[0;0m"
     ]
    }
   ],
   "source": [
    "import org.apache.commons.lang3.tuple.*; // Pair, ImmutablePair, MutablePair 등을 쓰기 위해 ... Java SDK에는 없다\n",
    "\n",
    "class PersonM extends /* 여기에 MutablePair 제너릭 타입을 적절히 구체화하여 사용하라 */ {\n",
    "    /*\n",
    "    PersonM(FlagM l, FlagM r) {\n",
    "        // 여기에 적절한 내용의 생성자 정의\n",
    "    }\n",
    "    */\n",
    "}"
   ]
  },
  {
   "cell_type": "markdown",
   "metadata": {},
   "source": [
    "위 코드를 적절히 완성해 아래 결과가 `true`가 되게 하라"
   ]
  },
  {
   "cell_type": "code",
   "execution_count": 22,
   "metadata": {},
   "outputs": [
    {
     "ename": "cannot find symbol",
     "evalue": "cannot find symbol",
     "output_type": "error",
     "traceback": [
      "\u001b[1;31mcannot find symbol\u001b[0;0m",
      "\u001b[1;31m  symbol:   class FlagM\u001b[0;0m",
      "\u001b[0;31m  location: class com.twosigma.beaker.javash.bkrb8e0047b.BeakerWrapperClass1261714175Id6bf3ea3732b44f31a5709e94404831c2\u001b[0;0m",
      "\u001b[0;31m FlagM flagL = new FlagM(FlagM.Color\u001b[0;0m",
      "\u001b[0;31m ^    ^                               \u001b[0;0m",
      "\u001b[0;31m\u001b[0;0m",
      "\u001b[0;31mcannot find symbol\u001b[0;0m",
      "\u001b[0;31m  symbol:   class FlagM\u001b[0;0m",
      "\u001b[0;31m  location: class com.twosigma.beaker.javash.bkrb8e0047b.BeakerWrapperClass1261714175Id6bf3ea3732b44f31a5709e94404831c2\u001b[0;0m",
      "\u001b[0;31m FlagM flagL = new FlagM(FlagM.Color.WHITE, FlagM.Posi\u001b[0;0m",
      "\u001b[0;31m                   ^    ^                               \u001b[0;0m",
      "\u001b[0;31m\u001b[0;0m",
      "\u001b[0;31mpackage FlagM does not exist\u001b[0;0m",
      "\u001b[0;31m FlagM flagL = new FlagM(FlagM.Color.WHITE, FlagM.Position.UP)\u001b[0;0m",
      "\u001b[0;31m                         ^          ^                           \u001b[0;0m",
      "\u001b[0;31m\u001b[0;0m",
      "\u001b[0;31mpackage FlagM does not exist\u001b[0;0m",
      "\u001b[0;31m= new FlagM(FlagM.Color.WHITE, FlagM.Position.UP)\u001b[0;0m",
      "\u001b[0;31m                               ^             ^     \u001b[0;0m",
      "\u001b[0;31m\u001b[0;0m",
      "\u001b[0;31mcannot find symbol\u001b[0;0m",
      "\u001b[0;31m  symbol:   class FlagM\u001b[0;0m",
      "\u001b[0;31m  location: class com.twosigma.beaker.javash.bkrb8e0047b.BeakerWrapperClass1261714175Id6bf3ea3732b44f31a5709e94404831c2\u001b[0;0m",
      "\u001b[0;31m FlagM flagR = new FlagM(FlagM.Color\u001b[0;0m",
      "\u001b[0;31m ^    ^                               \u001b[0;0m",
      "\u001b[0;31m\u001b[0;0m",
      "\u001b[0;31mcannot find symbol\u001b[0;0m",
      "\u001b[0;31m  symbol:   class FlagM\u001b[0;0m",
      "\u001b[0;31m  location: class com.twosigma.beaker.javash.bkrb8e0047b.BeakerWrapperClass1261714175Id6bf3ea3732b44f31a5709e94404831c2\u001b[0;0m",
      "\u001b[0;31m FlagM flagR = new FlagM(FlagM.Color.BLUE, FlagM.Posit\u001b[0;0m",
      "\u001b[0;31m                   ^    ^                               \u001b[0;0m",
      "\u001b[0;31m\u001b[0;0m",
      "\u001b[0;31mpackage FlagM does not exist\u001b[0;0m",
      "\u001b[0;31m FlagM flagR = new FlagM(FlagM.Color.BLUE, FlagM.Position.DOWN)\u001b[0;0m",
      "\u001b[0;31m                         ^          ^                            \u001b[0;0m",
      "\u001b[0;31m\u001b[0;0m",
      "\u001b[0;31mpackage FlagM does not exist\u001b[0;0m",
      "\u001b[0;31m = new FlagM(FlagM.Color.BLUE, FlagM.Position.DOWN)\u001b[0;0m",
      "\u001b[0;31m                               ^             ^       \u001b[0;0m",
      "\u001b[0;31m\u001b[0;0m",
      "\u001b[0;31mcannot find symbol\u001b[0;0m",
      "\u001b[0;31m  symbol:   class PersonM\u001b[0;0m",
      "\u001b[0;31m  location: class com.twosigma.beaker.javash.bkrb8e0047b.BeakerWrapperClass1261714175Id6bf3ea3732b44f31a5709e94404831c2\u001b[0;0m",
      "\u001b[0;31m PersonM p1 = new PersonM(flagL, flagR\u001b[0;0m",
      "\u001b[0;31m ^      ^                               \u001b[0;0m",
      "\u001b[0;31m\u001b[0;0m",
      "\u001b[0;31mcannot find symbol\u001b[0;0m",
      "\u001b[0;31m  symbol:   class PersonM\u001b[0;0m",
      "\u001b[0;31m  location: class com.twosigma.beaker.javash.bkrb8e0047b.BeakerWrapperClass1261714175Id6bf3ea3732b44f31a5709e94404831c2\u001b[0;0m",
      "\u001b[0;31m PersonM p1 = new PersonM(flagL, flagR)\u001b[0;0m",
      "\u001b[0;31m                  ^      ^               \u001b[0;0m",
      "\u001b[0;31m\u001b[0;0m",
      "\u001b[0;31mcannot find symbol\u001b[0;0m",
      "\u001b[0;31m  symbol:   class PersonM\u001b[0;0m",
      "\u001b[0;31m  location: class com.twosigma.beaker.javash.bkrb8e0047b.BeakerWrapperClass1261714175Id6bf3ea3732b44f31a5709e94404831c2\u001b[0;0m",
      "\u001b[0;31m PersonM p2 = new PersonM(flagR, flagL\u001b[0;0m",
      "\u001b[0;31m ^      ^                               \u001b[0;0m",
      "\u001b[0;31m\u001b[0;0m",
      "\u001b[0;31mcannot find symbol\u001b[0;0m",
      "\u001b[0;31m  symbol:   class PersonM\u001b[0;0m",
      "\u001b[0;31m  location: class com.twosigma.beaker.javash.bkrb8e0047b.BeakerWrapperClass1261714175Id6bf3ea3732b44f31a5709e94404831c2\u001b[0;0m",
      "\u001b[0;31m PersonM p2 = new PersonM(flagR, flagL)\u001b[0;0m",
      "\u001b[0;31m                  ^      ^               \u001b[0;0m"
     ]
    }
   ],
   "source": [
    "import org.apache.commons.lang3.tuple.*;\n",
    "\n",
    "FlagM flagL = new FlagM(FlagM.Color.WHITE, FlagM.Position.UP);\n",
    "FlagM flagR = new FlagM(FlagM.Color.BLUE, FlagM.Position.DOWN);\n",
    "\n",
    "PersonM p1 = new PersonM(flagL, flagR);\n",
    "PersonM p2 = new PersonM(flagR, flagL);\n",
    "\n",
    "return p1.toString().equals(\"((WHITE,UP),(BLUE,DOWN))\")\n",
    "    && p2.toString().equals(\"((BLUE,DOWN),(WHITE,UP))\");"
   ]
  },
  {
   "cell_type": "markdown",
   "metadata": {},
   "source": [
    "## 15. 깃발과 양손에 깃발을 든 사람을 순서쌍을 Pair 인터페이스를 상속한 클래스들로 표현해 보라 (6점)"
   ]
  },
  {
   "cell_type": "code",
   "execution_count": 23,
   "metadata": {},
   "outputs": [
    {
     "ename": "ERROR",
     "evalue": " java.lang.IllegalStateException",
     "output_type": "error",
     "traceback": [
      "\u001b[1;31mERROR: java.lang.IllegalStateException: illegal start of type\u001b[0;0m",
      "\u001b[1;31m class Flag implements  {\u001b[0;0m",
      "\u001b[1;31m                        ^ \u001b[0;0m"
     ]
    }
   ],
   "source": [
    "import org.apache.commons.lang3.tuple.*; // Pair, ImmutablePair, MutablePair 등을 쓰기 위해 ... Java SDK에는 없다\n",
    "\n",
    "class Flag implements /* Pair 제너릭 인터페이스를 적절히 구체화하여 사용하라 */ {\n",
    "    enum Color { WHITE, BLUE };\n",
    "    enum Position { DOWN, UP };\n",
    "    \n",
    "    // 여기에 적절한 생성자를 포함한 메소드와 또 필요하다면 변수도 정의하여 코드를 완성하라\n",
    "\n",
    "}"
   ]
  },
  {
   "cell_type": "code",
   "execution_count": 24,
   "metadata": {},
   "outputs": [
    {
     "ename": "ERROR",
     "evalue": " java.lang.IllegalStateException",
     "output_type": "error",
     "traceback": [
      "\u001b[1;31mERROR: java.lang.IllegalStateException: illegal start of type\u001b[0;0m",
      "\u001b[1;31m class Person implements  {\u001b[0;0m",
      "\u001b[1;31m                          ^ \u001b[0;0m"
     ]
    }
   ],
   "source": [
    "import org.apache.commons.lang3.tuple.*; // Pair, ImmutablePair, MutablePair 등을 쓰기 위해 ... Java SDK에는 없다\n",
    "\n",
    "class Person implements /* 여기에 Pair 제너릭 인스턴스를 적절히 구체화하여 사용하라 */ {\n",
    "    \n",
    "    // 여기에 적절한 생성자를 포함한 메소드와 또 필요하다면 변수도 정의하여 코드를 완성하라\n",
    "\n",
    "}"
   ]
  },
  {
   "cell_type": "markdown",
   "metadata": {},
   "source": [
    "위 코드를 적절히 완성해 아래 결과가 `true`가 되게 하라"
   ]
  },
  {
   "cell_type": "code",
   "execution_count": 25,
   "metadata": {},
   "outputs": [
    {
     "ename": "cannot find symbol",
     "evalue": "cannot find symbol",
     "output_type": "error",
     "traceback": [
      "\u001b[1;31mcannot find symbol\u001b[0;0m",
      "\u001b[1;31m  symbol:   class Flag\u001b[0;0m",
      "\u001b[0;31m  location: class com.twosigma.beaker.javash.bkrb8e0047b.BeakerWrapperClass1261714175Id669c2275468f4ef2b426e5974c3436f0\u001b[0;0m",
      "\u001b[0;31m Flag flagL = new Flag(Flag.Color.W\u001b[0;0m",
      "\u001b[0;31m ^   ^                               \u001b[0;0m",
      "\u001b[0;31m\u001b[0;0m",
      "\u001b[0;31mcannot find symbol\u001b[0;0m",
      "\u001b[0;31m  symbol:   class Flag\u001b[0;0m",
      "\u001b[0;31m  location: class com.twosigma.beaker.javash.bkrb8e0047b.BeakerWrapperClass1261714175Id669c2275468f4ef2b426e5974c3436f0\u001b[0;0m",
      "\u001b[0;31m Flag flagL = new Flag(Flag.Color.WHITE, Flag.Positi\u001b[0;0m",
      "\u001b[0;31m                  ^   ^                               \u001b[0;0m",
      "\u001b[0;31m\u001b[0;0m",
      "\u001b[0;31mpackage Flag does not exist\u001b[0;0m",
      "\u001b[0;31m Flag flagL = new Flag(Flag.Color.WHITE, Flag.Position.UP)\u001b[0;0m",
      "\u001b[0;31m                       ^         ^                          \u001b[0;0m",
      "\u001b[0;31m\u001b[0;0m",
      "\u001b[0;31mpackage Flag does not exist\u001b[0;0m",
      "\u001b[0;31mL = new Flag(Flag.Color.WHITE, Flag.Position.UP)\u001b[0;0m",
      "\u001b[0;31m                               ^            ^     \u001b[0;0m",
      "\u001b[0;31m\u001b[0;0m",
      "\u001b[0;31mcannot find symbol\u001b[0;0m",
      "\u001b[0;31m  symbol:   class Flag\u001b[0;0m",
      "\u001b[0;31m  location: class com.twosigma.beaker.javash.bkrb8e0047b.BeakerWrapperClass1261714175Id669c2275468f4ef2b426e5974c3436f0\u001b[0;0m",
      "\u001b[0;31m Flag flagR = new Flag(Flag.Color.B\u001b[0;0m",
      "\u001b[0;31m ^   ^                               \u001b[0;0m",
      "\u001b[0;31m\u001b[0;0m",
      "\u001b[0;31mcannot find symbol\u001b[0;0m",
      "\u001b[0;31m  symbol:   class Flag\u001b[0;0m",
      "\u001b[0;31m  location: class com.twosigma.beaker.javash.bkrb8e0047b.BeakerWrapperClass1261714175Id669c2275468f4ef2b426e5974c3436f0\u001b[0;0m",
      "\u001b[0;31m Flag flagR = new Flag(Flag.Color.BLUE, Flag.Positio\u001b[0;0m",
      "\u001b[0;31m                  ^   ^                               \u001b[0;0m",
      "\u001b[0;31m\u001b[0;0m",
      "\u001b[0;31mpackage Flag does not exist\u001b[0;0m",
      "\u001b[0;31m Flag flagR = new Flag(Flag.Color.BLUE, Flag.Position.DOWN)\u001b[0;0m",
      "\u001b[0;31m                       ^         ^                           \u001b[0;0m",
      "\u001b[0;31m\u001b[0;0m",
      "\u001b[0;31mpackage Flag does not exist\u001b[0;0m",
      "\u001b[0;31mgR = new Flag(Flag.Color.BLUE, Flag.Position.DOWN)\u001b[0;0m",
      "\u001b[0;31m                               ^            ^       \u001b[0;0m"
     ]
    }
   ],
   "source": [
    "import org.apache.commons.lang3.tuple.*;\n",
    "\n",
    "Flag flagL = new Flag(Flag.Color.WHITE, Flag.Position.UP);\n",
    "Flag flagR = new Flag(Flag.Color.BLUE, Flag.Position.DOWN);\n",
    "\n",
    "Person p1 = new Person(flagL, flagR);\n",
    "Person p2 = new Person(flagR, flagL);\n",
    "\n",
    "return p1.toString().equals(\"((WHITE,UP),(BLUE,DOWN))\")\n",
    "    && p2.toString().equals(\"((BLUE,DOWN),(WHITE,UP))\");"
   ]
  },
  {
   "cell_type": "markdown",
   "metadata": {},
   "source": [
    "---\n",
    "\n",
    "# 참고자료\n",
    "\n",
    "--- "
   ]
  },
  {
   "cell_type": "markdown",
   "metadata": {},
   "source": [
    "#### Class `Pair<L,R>`\n",
    "\n",
    " * `java.lang.Object`\n",
    "      * `org.apache.commons.lang3.tuple.Pair<L,R>`\n",
    "\n",
    "Type Parameters:\n",
    " * `L` - the left element type\n",
    " * `R` - the right element type\n",
    "\n",
    "All Implemented Interfaces:\n",
    "`Serializable`, `Comparable<Pair<L,R>>`, `Map.Entry<L,R>`\n",
    "\n",
    "Direct Known Subclasses:\n",
    "`Diff`, `ImmutablePair`, `MutablePair`\n",
    "\n",
    "```java\n",
    "public abstract class Pair<L,R>\n",
    "extends Object\n",
    "implements Map.Entry<L,R>, Comparable<Pair<L,R>>, Serializable\n",
    "```\n",
    "A pair consisting of two elements.\n",
    "\n",
    "This class is an abstract implementation defining the basic API. It refers to the elements as 'left' and 'right'. It also implements the `Map.Entry` interface where the key is 'left' and the value is 'right'.\n",
    "\n",
    "Subclass implementations may be mutable or immutable. However, there is no restriction on the type of the stored objects that may be stored. If mutable objects are stored in the pair, then the pair itself effectively becomes mutable.\n",
    "\n",
    "Since: 3.0\n",
    "\n",
    "Method Summary\n",
    "  * Abstract Methods\n",
    "```java\n",
    "abstract L getLeft();  // Gets the left element from this pair.\n",
    "abstract R getRight(); // Gets the right element from this pair.\n",
    "```\n",
    "---"
   ]
  },
  {
   "cell_type": "markdown",
   "metadata": {},
   "source": [
    "#### Class `MutablePair<L,R>`\n",
    " * `java.lang.Object`\n",
    "     * `org.apache.commons.lang3.tuple.Pair<L,R>`\n",
    "         * `org.apache.commons.lang3.tuple.MutablePair<L,R>`\n",
    "\n",
    "Type Parameters:\n",
    " * `L` - the left element type\n",
    " * `R` - the right element type\n",
    "\n",
    "All Implemented Interfaces:\n",
    "`Serializable`, `Comparable<Pair<L,R>>`, `Map.Entry<L,R>`\n",
    "\n",
    "```java\n",
    "public class MutablePair<L,R>\n",
    "extends Pair<L,R>\n",
    "```\n",
    "A mutable pair consisting of two `Object` elements.\n",
    "\n",
    "Not #ThreadSafe#\n",
    "\n",
    "Since:\n",
    "3.0\n",
    "\n",
    "Constructor Summary\n",
    "```java\n",
    "MutablePair(); // Create a new pair instance of two nulls.\n",
    "MutablePair(L left, R right); // Create a new pair instance.\n",
    "```\n",
    "\n",
    "Method Summary\n",
    "  * All Methods\n",
    "```java\n",
    "L getLeft(); // Gets the left element from this pair.\n",
    "R getRight(); // Gets the right element from this pair.\n",
    "static <L,R> MutablePair<L,R> of(L left, R right); // Obtains a mutable pair of two objects inferring the generic types.\n",
    "void setLeft(L left); // Sets the left element of the pair.\n",
    "void setRight(R right); // Sets the right element of the pair.\n",
    "R setValue(R value); // Sets the Map.Entry value.\n",
    "```\n",
    "---"
   ]
  },
  {
   "cell_type": "markdown",
   "metadata": {},
   "source": [
    "#### Class `ImmutablePair<L,R>`\n",
    " * java.lang.Object\n",
    "     * org.apache.commons.lang3.tuple.Pair<L,R>\n",
    "         * org.apache.commons.lang3.tuple.ImmutablePair<L,R>\n",
    "\n",
    "Type Parameters:\n",
    " * L - the left element type\n",
    " * R - the right element type\n",
    "\n",
    "All Implemented Interfaces:\n",
    "`Serializable`, `Comparable<Pair<L,R>>`, `Map.Entry<L,R>`\n",
    "\n",
    "```java\n",
    "public final class ImmutablePair<L,R>\n",
    "extends Pair<L,R>\n",
    "```\n",
    "An immutable pair consisting of two `Object` elements.\n",
    "\n",
    "Although the implementation is immutable, there is no restriction on the objects that may be stored. If mutable objects are stored in the pair, then the pair itself effectively becomes mutable. The class is also final, so a subclass can not add undesirable behaviour.\n",
    "\n",
    "#ThreadSafe# if both paired objects are thread-safe\n",
    "\n",
    "Since:\n",
    "3.0\n",
    "\n",
    "Constructor Summary\n",
    "```java\n",
    "ImmutablePair(L left, R right); // Create a new pair instance.\n",
    "```\n",
    "\n",
    "Method Summary\n",
    " * All Methods\n",
    "```java\n",
    "L getLeft(); // Gets the left element from this pair.\n",
    "R getRight(); // Gets the right element from this pair.\n",
    "static <L,R> ImmutablePair<L,R> nullPair(); // Returns an immutable pair of nulls.\n",
    "static <L,R> ImmutablePair<L,R> of(L left, R right); // Obtains an immutable pair of two objects inferring the generic types.\n",
    "R setValue(R value); // Throws UnsupportedOperationException.\n",
    "```\n",
    "---"
   ]
  }
 ],
 "metadata": {
  "kernelspec": {
   "display_name": "Java",
   "language": "java",
   "name": "java"
  },
  "language_info": {
   "codemirror_mode": "text/x-java",
   "file_extension": ".java",
   "mimetype": "",
   "name": "Java",
   "nbconverter_exporter": "",
   "version": "1.8.0_121"
  },
  "toc": {
   "base_numbering": 1,
   "nav_menu": {},
   "number_sections": false,
   "sideBar": false,
   "skip_h1_title": false,
   "title_cell": "Table of Contents",
   "title_sidebar": "Contents",
   "toc_cell": false,
   "toc_position": {},
   "toc_section_display": false,
   "toc_window_display": false
  }
 },
 "nbformat": 4,
 "nbformat_minor": 2
}
